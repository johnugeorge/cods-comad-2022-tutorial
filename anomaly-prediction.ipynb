{
 "cells": [
  {
   "cell_type": "markdown",
   "id": "3646fb9a",
   "metadata": {},
   "source": [
    "## Install Python dependencies"
   ]
  },
  {
   "cell_type": "code",
   "execution_count": 1,
   "id": "c5b20bff",
   "metadata": {},
   "outputs": [
    {
     "name": "stdout",
     "output_type": "stream",
     "text": [
      "Requirement already satisfied: boto3 in /opt/conda/lib/python3.8/site-packages (1.20.27)\n",
      "Requirement already satisfied: pandas in /opt/conda/lib/python3.8/site-packages (1.2.4)\n",
      "Requirement already satisfied: numpy in /opt/conda/lib/python3.8/site-packages (1.21.2)\n",
      "Requirement already satisfied: sagemaker in /opt/conda/lib/python3.8/site-packages (2.72.1)\n",
      "Requirement already satisfied: jmespath<1.0.0,>=0.7.1 in /opt/conda/lib/python3.8/site-packages (from boto3) (0.10.0)\n",
      "Requirement already satisfied: botocore<1.24.0,>=1.23.27 in /opt/conda/lib/python3.8/site-packages (from boto3) (1.23.27)\n",
      "Requirement already satisfied: s3transfer<0.6.0,>=0.5.0 in /opt/conda/lib/python3.8/site-packages (from boto3) (0.5.0)\n",
      "Requirement already satisfied: urllib3<1.27,>=1.25.4 in /opt/conda/lib/python3.8/site-packages (from botocore<1.24.0,>=1.23.27->boto3) (1.26.5)\n",
      "Requirement already satisfied: python-dateutil<3.0.0,>=2.1 in /opt/conda/lib/python3.8/site-packages (from botocore<1.24.0,>=1.23.27->boto3) (2.8.1)\n",
      "Requirement already satisfied: six>=1.5 in /opt/conda/lib/python3.8/site-packages (from python-dateutil<3.0.0,>=2.1->botocore<1.24.0,>=1.23.27->boto3) (1.16.0)\n",
      "Requirement already satisfied: pytz>=2017.3 in /opt/conda/lib/python3.8/site-packages (from pandas) (2021.1)\n",
      "Requirement already satisfied: protobuf3-to-dict>=0.1.5 in /opt/conda/lib/python3.8/site-packages (from sagemaker) (0.1.5)\n",
      "Requirement already satisfied: importlib-metadata>=1.4.0 in /opt/conda/lib/python3.8/site-packages (from sagemaker) (4.10.0)\n",
      "Requirement already satisfied: packaging>=20.0 in /opt/conda/lib/python3.8/site-packages (from sagemaker) (20.9)\n",
      "Requirement already satisfied: pathos in /opt/conda/lib/python3.8/site-packages (from sagemaker) (0.2.8)\n",
      "Requirement already satisfied: smdebug-rulesconfig==1.0.1 in /opt/conda/lib/python3.8/site-packages (from sagemaker) (1.0.1)\n",
      "Requirement already satisfied: attrs in /opt/conda/lib/python3.8/site-packages (from sagemaker) (21.2.0)\n",
      "Requirement already satisfied: google-pasta in /opt/conda/lib/python3.8/site-packages (from sagemaker) (0.2.0)\n",
      "Requirement already satisfied: protobuf>=3.1 in /opt/conda/lib/python3.8/site-packages (from sagemaker) (3.17.3)\n",
      "Requirement already satisfied: zipp>=0.5 in /opt/conda/lib/python3.8/site-packages (from importlib-metadata>=1.4.0->sagemaker) (3.7.0)\n",
      "Requirement already satisfied: pyparsing>=2.0.2 in /opt/conda/lib/python3.8/site-packages (from packaging>=20.0->sagemaker) (2.4.7)\n",
      "Requirement already satisfied: dill>=0.3.4 in /opt/conda/lib/python3.8/site-packages (from pathos->sagemaker) (0.3.4)\n",
      "Requirement already satisfied: pox>=0.3.0 in /opt/conda/lib/python3.8/site-packages (from pathos->sagemaker) (0.3.0)\n",
      "Requirement already satisfied: multiprocess>=0.70.12 in /opt/conda/lib/python3.8/site-packages (from pathos->sagemaker) (0.70.12.2)\n",
      "Requirement already satisfied: ppft>=1.6.6.4 in /opt/conda/lib/python3.8/site-packages (from pathos->sagemaker) (1.6.6.4)\n"
     ]
    }
   ],
   "source": [
    "!pip install boto3 pandas numpy sagemaker"
   ]
  },
  {
   "cell_type": "markdown",
   "id": "1937b844",
   "metadata": {},
   "source": [
    "## Import Libraries"
   ]
  },
  {
   "cell_type": "code",
   "execution_count": 2,
   "id": "1497c3ec-c05e-45ac-9930-a6f26f48bb29",
   "metadata": {},
   "outputs": [
    {
     "name": "stdout",
     "output_type": "stream",
     "text": [
      "Found existing installation: kfp 1.8.10\n",
      "Uninstalling kfp-1.8.10:\n",
      "  Successfully uninstalled kfp-1.8.10\n",
      "Collecting kfp\n",
      "  Using cached kfp-1.8.10-py3-none-any.whl\n",
      "Requirement already satisfied: jsonschema<4,>=3.0.1 in /opt/conda/lib/python3.8/site-packages (from kfp) (3.2.0)\n",
      "Requirement already satisfied: strip-hints<1,>=0.1.8 in /opt/conda/lib/python3.8/site-packages (from kfp) (0.1.10)\n",
      "Requirement already satisfied: fire<1,>=0.3.1 in /opt/conda/lib/python3.8/site-packages (from kfp) (0.4.0)\n",
      "Requirement already satisfied: protobuf<4,>=3.13.0 in /opt/conda/lib/python3.8/site-packages (from kfp) (3.17.3)\n",
      "Requirement already satisfied: kubernetes<19,>=8.0.0 in /opt/conda/lib/python3.8/site-packages (from kfp) (12.0.1)\n",
      "Requirement already satisfied: absl-py<=0.11,>=0.9 in /opt/conda/lib/python3.8/site-packages (from kfp) (0.11.0)\n",
      "Requirement already satisfied: typer<1.0,>=0.3.2 in /opt/conda/lib/python3.8/site-packages (from kfp) (0.4.0)\n",
      "Requirement already satisfied: pydantic<2,>=1.8.2 in /opt/conda/lib/python3.8/site-packages (from kfp) (1.9.0)\n",
      "Requirement already satisfied: kfp-server-api<2.0.0,>=1.1.2 in /opt/conda/lib/python3.8/site-packages (from kfp) (1.6.0)\n",
      "Requirement already satisfied: kfp-pipeline-spec<0.2.0,>=0.1.13 in /opt/conda/lib/python3.8/site-packages (from kfp) (0.1.13)\n",
      "Requirement already satisfied: docstring-parser<1,>=0.7.3 in /opt/conda/lib/python3.8/site-packages (from kfp) (0.11)\n",
      "Requirement already satisfied: requests-toolbelt<1,>=0.8.0 in /opt/conda/lib/python3.8/site-packages (from kfp) (0.9.1)\n",
      "Requirement already satisfied: Deprecated<2,>=1.2.7 in /opt/conda/lib/python3.8/site-packages (from kfp) (1.2.13)\n",
      "Requirement already satisfied: google-api-python-client<2,>=1.7.8 in /opt/conda/lib/python3.8/site-packages (from kfp) (1.12.8)\n",
      "Requirement already satisfied: uritemplate<4,>=3.0.1 in /opt/conda/lib/python3.8/site-packages (from kfp) (3.0.1)\n",
      "Requirement already satisfied: tabulate<1,>=0.8.6 in /opt/conda/lib/python3.8/site-packages (from kfp) (0.8.9)\n",
      "Requirement already satisfied: google-auth<2,>=1.6.1 in /opt/conda/lib/python3.8/site-packages (from kfp) (1.35.0)\n",
      "Requirement already satisfied: click<9,>=7.1.2 in /opt/conda/lib/python3.8/site-packages (from kfp) (7.1.2)\n",
      "Requirement already satisfied: cloudpickle<3,>=2.0.0 in /opt/conda/lib/python3.8/site-packages (from kfp) (2.0.0)\n",
      "Requirement already satisfied: google-cloud-storage<2,>=1.20.0 in /opt/conda/lib/python3.8/site-packages (from kfp) (1.42.3)\n",
      "Requirement already satisfied: typing-extensions<4,>=3.7.4 in /opt/conda/lib/python3.8/site-packages (from kfp) (3.10.0.2)\n",
      "Requirement already satisfied: PyYAML<6,>=5.3 in /opt/conda/lib/python3.8/site-packages (from kfp) (5.4.1)\n",
      "Requirement already satisfied: six in /opt/conda/lib/python3.8/site-packages (from absl-py<=0.11,>=0.9->kfp) (1.16.0)\n",
      "Requirement already satisfied: wrapt<2,>=1.10 in /opt/conda/lib/python3.8/site-packages (from Deprecated<2,>=1.2.7->kfp) (1.13.1)\n",
      "Requirement already satisfied: termcolor in /opt/conda/lib/python3.8/site-packages (from fire<1,>=0.3.1->kfp) (1.1.0)\n",
      "Requirement already satisfied: google-auth-httplib2>=0.0.3 in /opt/conda/lib/python3.8/site-packages (from google-api-python-client<2,>=1.7.8->kfp) (0.1.0)\n",
      "Requirement already satisfied: google-api-core<2dev,>=1.21.0 in /opt/conda/lib/python3.8/site-packages (from google-api-python-client<2,>=1.7.8->kfp) (1.31.3)\n",
      "Requirement already satisfied: httplib2<1dev,>=0.15.0 in /opt/conda/lib/python3.8/site-packages (from google-api-python-client<2,>=1.7.8->kfp) (0.20.1)\n",
      "Requirement already satisfied: setuptools>=40.3.0 in /opt/conda/lib/python3.8/site-packages (from google-api-core<2dev,>=1.21.0->google-api-python-client<2,>=1.7.8->kfp) (49.6.0.post20210108)\n",
      "Requirement already satisfied: pytz in /opt/conda/lib/python3.8/site-packages (from google-api-core<2dev,>=1.21.0->google-api-python-client<2,>=1.7.8->kfp) (2021.1)\n",
      "Requirement already satisfied: packaging>=14.3 in /opt/conda/lib/python3.8/site-packages (from google-api-core<2dev,>=1.21.0->google-api-python-client<2,>=1.7.8->kfp) (20.9)\n",
      "Requirement already satisfied: requests<3.0.0dev,>=2.18.0 in /opt/conda/lib/python3.8/site-packages (from google-api-core<2dev,>=1.21.0->google-api-python-client<2,>=1.7.8->kfp) (2.25.1)\n",
      "Requirement already satisfied: googleapis-common-protos<2.0dev,>=1.6.0 in /opt/conda/lib/python3.8/site-packages (from google-api-core<2dev,>=1.21.0->google-api-python-client<2,>=1.7.8->kfp) (1.53.0)\n",
      "Requirement already satisfied: cachetools<5.0,>=2.0.0 in /opt/conda/lib/python3.8/site-packages (from google-auth<2,>=1.6.1->kfp) (4.2.4)\n",
      "Requirement already satisfied: pyasn1-modules>=0.2.1 in /opt/conda/lib/python3.8/site-packages (from google-auth<2,>=1.6.1->kfp) (0.2.8)\n",
      "Requirement already satisfied: rsa<5,>=3.1.4 in /opt/conda/lib/python3.8/site-packages (from google-auth<2,>=1.6.1->kfp) (4.7.2)\n",
      "Requirement already satisfied: google-cloud-core<3.0dev,>=1.6.0 in /opt/conda/lib/python3.8/site-packages (from google-cloud-storage<2,>=1.20.0->kfp) (2.1.0)\n",
      "Requirement already satisfied: google-resumable-media<3.0dev,>=1.3.0 in /opt/conda/lib/python3.8/site-packages (from google-cloud-storage<2,>=1.20.0->kfp) (2.0.3)\n",
      "Requirement already satisfied: google-crc32c<2.0dev,>=1.0 in /opt/conda/lib/python3.8/site-packages (from google-resumable-media<3.0dev,>=1.3.0->google-cloud-storage<2,>=1.20.0->kfp) (1.3.0)\n",
      "Requirement already satisfied: pyparsing<3,>=2.4.2 in /opt/conda/lib/python3.8/site-packages (from httplib2<1dev,>=0.15.0->google-api-python-client<2,>=1.7.8->kfp) (2.4.7)\n",
      "Requirement already satisfied: attrs>=17.4.0 in /opt/conda/lib/python3.8/site-packages (from jsonschema<4,>=3.0.1->kfp) (21.2.0)\n",
      "Requirement already satisfied: pyrsistent>=0.14.0 in /opt/conda/lib/python3.8/site-packages (from jsonschema<4,>=3.0.1->kfp) (0.17.3)\n",
      "Requirement already satisfied: urllib3>=1.15 in /opt/conda/lib/python3.8/site-packages (from kfp-server-api<2.0.0,>=1.1.2->kfp) (1.26.5)\n",
      "Requirement already satisfied: certifi in /opt/conda/lib/python3.8/site-packages (from kfp-server-api<2.0.0,>=1.1.2->kfp) (2021.5.30)\n",
      "Requirement already satisfied: python-dateutil in /opt/conda/lib/python3.8/site-packages (from kfp-server-api<2.0.0,>=1.1.2->kfp) (2.8.1)\n",
      "Requirement already satisfied: websocket-client!=0.40.0,!=0.41.*,!=0.42.*,>=0.32.0 in /opt/conda/lib/python3.8/site-packages (from kubernetes<19,>=8.0.0->kfp) (1.0.1)\n",
      "Requirement already satisfied: requests-oauthlib in /opt/conda/lib/python3.8/site-packages (from kubernetes<19,>=8.0.0->kfp) (1.3.0)\n",
      "Requirement already satisfied: pyasn1<0.5.0,>=0.4.6 in /opt/conda/lib/python3.8/site-packages (from pyasn1-modules>=0.2.1->google-auth<2,>=1.6.1->kfp) (0.4.8)\n",
      "Requirement already satisfied: idna<3,>=2.5 in /opt/conda/lib/python3.8/site-packages (from requests<3.0.0dev,>=2.18.0->google-api-core<2dev,>=1.21.0->google-api-python-client<2,>=1.7.8->kfp) (2.10)\n",
      "Requirement already satisfied: chardet<5,>=3.0.2 in /opt/conda/lib/python3.8/site-packages (from requests<3.0.0dev,>=2.18.0->google-api-core<2dev,>=1.21.0->google-api-python-client<2,>=1.7.8->kfp) (4.0.0)\n",
      "Requirement already satisfied: wheel in /opt/conda/lib/python3.8/site-packages (from strip-hints<1,>=0.1.8->kfp) (0.36.2)\n",
      "Requirement already satisfied: oauthlib>=3.0.0 in /opt/conda/lib/python3.8/site-packages (from requests-oauthlib->kubernetes<19,>=8.0.0->kfp) (3.1.1)\n",
      "Installing collected packages: kfp\n",
      "Successfully installed kfp-1.8.10\n"
     ]
    }
   ],
   "source": [
    "!pip uninstall kfp -y\n",
    "!pip install kfp"
   ]
  },
  {
   "cell_type": "code",
   "execution_count": 21,
   "id": "5b0f668c",
   "metadata": {},
   "outputs": [
    {
     "data": {
      "text/html": [
       "<script>Jupyter.notebook.kernel.restart()</script>"
      ]
     },
     "metadata": {},
     "output_type": "display_data"
    }
   ],
   "source": [
    "from IPython.display import display_html\n",
    "display_html(\"<script>Jupyter.notebook.kernel.restart()</script>\",raw=True)"
   ]
  },
  {
   "cell_type": "code",
   "execution_count": 32,
   "id": "a8c798fc",
   "metadata": {},
   "outputs": [],
   "source": [
    "import kfp\n",
    "import kfp.dsl as dsl\n",
    "from kfp import components\n",
    "from kubernetes import client as k8s_client\n",
    "from kfp.aws import use_aws_secret\n",
    "import logging\n",
    "import os\n",
    "import boto3\n",
    "import time\n",
    "import pandas as pd\n",
    "from matplotlib import pyplot as plt\n",
    "import numpy as np\n",
    "import sagemaker\n",
    "from datetime import datetime\n",
    "from sagemaker.predictor import Predictor\n",
    "from sagemaker.serializers import NumpySerializer\n",
    "from sagemaker.deserializers import NumpyDeserializer"
   ]
  },
  {
   "cell_type": "markdown",
   "id": "b872ca2e",
   "metadata": {},
   "source": [
    "## Quick look at training data"
   ]
  },
  {
   "cell_type": "code",
   "execution_count": 33,
   "id": "c8ee06e3",
   "metadata": {},
   "outputs": [
    {
     "name": "stdout",
     "output_type": "stream",
     "text": [
      "Number of training samples: 4032\n"
     ]
    },
    {
     "data": {
      "text/html": [
       "<div>\n",
       "<style scoped>\n",
       "    .dataframe tbody tr th:only-of-type {\n",
       "        vertical-align: middle;\n",
       "    }\n",
       "\n",
       "    .dataframe tbody tr th {\n",
       "        vertical-align: top;\n",
       "    }\n",
       "\n",
       "    .dataframe thead th {\n",
       "        text-align: right;\n",
       "    }\n",
       "</style>\n",
       "<table border=\"1\" class=\"dataframe\">\n",
       "  <thead>\n",
       "    <tr style=\"text-align: right;\">\n",
       "      <th></th>\n",
       "      <th>value</th>\n",
       "    </tr>\n",
       "    <tr>\n",
       "      <th>timestamp</th>\n",
       "      <th></th>\n",
       "    </tr>\n",
       "  </thead>\n",
       "  <tbody>\n",
       "    <tr>\n",
       "      <th>2014-04-01 00:00:00</th>\n",
       "      <td>18.324919</td>\n",
       "    </tr>\n",
       "    <tr>\n",
       "      <th>2014-04-01 00:05:00</th>\n",
       "      <td>21.970327</td>\n",
       "    </tr>\n",
       "    <tr>\n",
       "      <th>2014-04-01 00:10:00</th>\n",
       "      <td>18.624806</td>\n",
       "    </tr>\n",
       "    <tr>\n",
       "      <th>2014-04-01 00:15:00</th>\n",
       "      <td>21.953684</td>\n",
       "    </tr>\n",
       "    <tr>\n",
       "      <th>2014-04-01 00:20:00</th>\n",
       "      <td>21.909120</td>\n",
       "    </tr>\n",
       "  </tbody>\n",
       "</table>\n",
       "</div>"
      ],
      "text/plain": [
       "                         value\n",
       "timestamp                     \n",
       "2014-04-01 00:00:00  18.324919\n",
       "2014-04-01 00:05:00  21.970327\n",
       "2014-04-01 00:10:00  18.624806\n",
       "2014-04-01 00:15:00  21.953684\n",
       "2014-04-01 00:20:00  21.909120"
      ]
     },
     "execution_count": 33,
     "metadata": {},
     "output_type": "execute_result"
    }
   ],
   "source": [
    "train_url = \"https://raw.githubusercontent.com/numenta/NAB/master/data/artificialNoAnomaly/art_daily_small_noise.csv\"\n",
    "df_train = pd.read_csv(\n",
    "    train_url, parse_dates=True, index_col=\"timestamp\")\n",
    "training_mean = df_train.mean()\n",
    "training_std = df_train.std()\n",
    "df_training_value = (df_train - training_mean) / training_std\n",
    "print(\"Number of training samples:\", len(df_training_value))\n",
    "df_train.head()"
   ]
  },
  {
   "cell_type": "markdown",
   "id": "70bf0a0c",
   "metadata": {},
   "source": [
    "## Visualize training data"
   ]
  },
  {
   "cell_type": "code",
   "execution_count": 34,
   "id": "a9cc4452",
   "metadata": {},
   "outputs": [
    {
     "data": {
      "image/png": "[encoded data removed]",
      "text/plain": [
       "<Figure size 432x288 with 1 Axes>"
      ]
     },
     "metadata": {
      "needs_background": "light"
     },
     "output_type": "display_data"
    }
   ],
   "source": [
    "fig, ax = plt.subplots()\n",
    "df_train.plot(legend=False, ax=ax)\n",
    "plt.show()"
   ]
  },
  {
   "cell_type": "markdown",
   "id": "5198dd87",
   "metadata": {},
   "source": [
    "## Set Pipeline parameters"
   ]
  },
  {
   "cell_type": "code",
   "execution_count": 35,
   "id": "3b2b9106",
   "metadata": {},
   "outputs": [
    {
     "name": "stderr",
     "output_type": "stream",
     "text": [
      "INFO:root:timestamp for pipeline artifacts: 06-01-22-06-27-46\n"
     ]
    },
    {
     "name": "stdout",
     "output_type": "stream",
     "text": [
      "env: AWS_DEFAULT_REGION=ap-south-1\n"
     ]
    }
   ],
   "source": [
    "# execution_mode (string): where the notebook is being run\n",
    "# Sample: 'local', 'in-cluster'\n",
    "execution_mode = 'in-cluster'\n",
    "\n",
    "# host (string): KF Pipelines service endpoint\n",
    "host = ''\n",
    "\n",
    "# bucket_name (string): S3 bucket to be used by the pipeline\n",
    "bucket_name = 'model-store-aws'\n",
    "\n",
    "# aws_secret_name (string): AWS secret where IAM creds are stored\n",
    "# Sample: 'aws-secret'\n",
    "aws_secret_name = 'aws-secret'\n",
    "\n",
    "# role_arn (string): SageMaker Role ARN for execution of pipeline components\n",
    "# Sample: 'arn:aws:iam::${account_id}:role/service-role/AmazonSageMaker-ExecutionRole-${timestemp}'\n",
    "role_arn = 'arn:aws:iam::315482734496:role/SageMakerServingRole'\n",
    "\n",
    "# Region where the pipeline is supposed to push/pull artifacts\n",
    "aws_region = 'ap-south-1'\n",
    "%env AWS_DEFAULT_REGION={aws_region}\n",
    "\n",
    "timestamp = datetime.now().strftime(\"%d-%m-%y-%H-%M-%S\")\n",
    "logging.info(\"timestamp for pipeline artifacts: %s\", timestamp)\n",
    "\n",
    "# pre-built inference image for serving the anomaly prediction model\n",
    "inference_image = '315482734496.dkr.ecr.ap-south-1.amazonaws.com/anomalypredict:0.5'\n",
    "\n",
    "# model name to create a re-usable SageMaker Model resource\n",
    "model_name = 'anomalyprediction-model-'+timestamp\n",
    "\n",
    "# endpoint config name for the SageMaker Model Serving Endpoint Config\n",
    "endpoint_config_name = 'anomalyprediction-endpoint-config-'+timestamp\n",
    "\n",
    "# endpoint name for SageMaker Serving Endpoint\n",
    "endpoint_name = 'anomalyprediction-endpoint-'+timestamp\n",
    "\n",
    "# model artifact URL\n",
    "# Path to the model tarball \n",
    "model_path= 's3://'+bucket_name+'/model/anomalydetection_model.tar.gz'\n",
    "\n",
    "# AWS instance type\n",
    "instance_type = 'ml.m4.xlarge'"
   ]
  },
  {
   "cell_type": "code",
   "execution_count": 36,
   "id": "983d55e7",
   "metadata": {},
   "outputs": [],
   "source": [
    "model = 'https://raw.githubusercontent.com/kubeflow/pipelines/master/components/aws/sagemaker/model/component.yaml'\n",
    "deploy = 'https://raw.githubusercontent.com/kubeflow/pipelines/master/components/aws/sagemaker/deploy/component.yaml'\n",
    "\n",
    "if execution_mode == \"local\" and host == None:\n",
    "    raise ValueError(\"Please set host to the appropriate URL\")\n",
    "elif execution_mode != \"local\":\n",
    "    execution_mode = \"in-cluster\"\n",
    "\n",
    "logging.basicConfig()\n",
    "logging.getLogger().setLevel(logging.INFO)"
   ]
  },
  {
   "cell_type": "markdown",
   "id": "f94d2102",
   "metadata": {},
   "source": [
    "## Define Pipeline Steps"
   ]
  },
  {
   "cell_type": "code",
   "execution_count": 37,
   "id": "134580e3",
   "metadata": {},
   "outputs": [],
   "source": [
    "sagemaker_model_op = components.load_component_from_url(model)\n",
    "sagemaker_deploy_op = components.load_component_from_url(deploy)\n",
    "\n",
    "def anomalyprediction_train_upload_op(step_name='anomalyprediction-train'):\n",
    "    vop = dsl.VolumeOp(\n",
    "      name='Mount-Log-Volume',\n",
    "      resource_name=\"tensorboard-pvc\",\n",
    "      modes=[\"ReadWriteOnce\"],\n",
    "      size=\"1Gi\"\n",
    "    )\n",
    "        \n",
    "    return dsl.ContainerOp(\n",
    "        name='Train-Keras-Model',\n",
    "        image='johnugeorge/anomalytrain:0.6',\n",
    "        command=['python', '/opt/anomalytrain.py'],\n",
    "        arguments=['--s3bucket', bucket_name, '--logsdir', '/mnt/vol'],\n",
    "        pvolumes={\"/mnt/vol\": vop.volume}\n",
    "    ).apply(use_aws_secret(secret_name=aws_secret_name, aws_access_key_id_name='AWS_ACCESS_KEY_ID', aws_secret_access_key_name='AWS_SECRET_ACCESS_KEY'))"
   ]
  },
  {
   "cell_type": "code",
   "execution_count": 38,
   "id": "b652ee49",
   "metadata": {},
   "outputs": [],
   "source": [
    "@dsl.pipeline(\n",
    "    name='Sagemaker Hybrid Pipeline',\n",
    "    description='Pipeline to train Anomaly Prediction model using keras and save in aws s3 bucket'\n",
    ")\n",
    "def tf_pipeline(\n",
    "    region=\"\",\n",
    "    image=\"\",\n",
    "    model_name=\"\",\n",
    "    endpoint_config_name=\"\",\n",
    "    endpoint_name=\"\",\n",
    "    model_artifact_url=\"\",\n",
    "    instance_type_1=\"\",\n",
    "    role=\"\"\n",
    "):\n",
    "    train_upload_model = anomalyprediction_train_upload_op()\n",
    "\n",
    "    create_model = sagemaker_model_op(\n",
    "        region=region,\n",
    "        model_name=model_name,\n",
    "        image=image,\n",
    "        model_artifact_url=model_artifact_url,\n",
    "        role=role\n",
    "    ).apply(use_aws_secret(secret_name=aws_secret_name, aws_access_key_id_name='AWS_ACCESS_KEY_ID', aws_secret_access_key_name='AWS_SECRET_ACCESS_KEY'))\n",
    "    create_model.after(train_upload_model)\n",
    "\n",
    "    sagemaker_deploy=sagemaker_deploy_op(\n",
    "        region=region,\n",
    "        endpoint_config_name=endpoint_config_name,\n",
    "        endpoint_name=endpoint_name,\n",
    "        model_name_1=create_model.output,\n",
    "        instance_type_1=instance_type_1\n",
    "    ).apply(use_aws_secret(secret_name=aws_secret_name, aws_access_key_id_name='AWS_ACCESS_KEY_ID', aws_secret_access_key_name='AWS_SECRET_ACCESS_KEY'))\n",
    "    sagemaker_deploy.after(create_model)"
   ]
  },
  {
   "cell_type": "markdown",
   "id": "19976b11",
   "metadata": {},
   "source": [
    "## Compile Pipeline Workflow"
   ]
  },
  {
   "cell_type": "code",
   "execution_count": 39,
   "id": "dcbe6084",
   "metadata": {},
   "outputs": [
    {
     "name": "stderr",
     "output_type": "stream",
     "text": [
      "/opt/conda/lib/python3.8/site-packages/kfp/dsl/_container_op.py:1258: FutureWarning: Please create reusable components instead of constructing ContainerOp instances directly. Reusable components are shareable, portable and have compatibility and support guarantees. Please see the documentation: https://www.kubeflow.org/docs/pipelines/sdk/component-development/#writing-your-component-definition-file The components can be created manually (or, in case of python, using kfp.components.create_component_from_func or func_to_container_op) and then loaded using kfp.components.load_component_from_file, load_component_from_uri or load_component_from_text: https://kubeflow-pipelines.readthedocs.io/en/stable/source/kfp.components.html#kfp.components.load_component_from_file\n",
      "  warnings.warn(\n"
     ]
    }
   ],
   "source": [
    "try:\n",
    "    import kfp.compiler as compiler\n",
    "    compiler.Compiler().compile(tf_pipeline, 'e2e_pipeline.tar.gz')\n",
    "except RuntimeError as err:\n",
    "    logging.debug(err)\n",
    "    logging.info(\"Argo workflow failed validation check but it can still be used to run experiments.\")\n"
   ]
  },
  {
   "cell_type": "markdown",
   "id": "87d296f5",
   "metadata": {},
   "source": [
    "## Create Pipeline experiment"
   ]
  },
  {
   "cell_type": "code",
   "execution_count": 40,
   "id": "f054c035-6629-4db3-8f23-f0ea6733bc04",
   "metadata": {},
   "outputs": [
    {
     "name": "stdout",
     "output_type": "stream",
     "text": [
      "in-cluster\n"
     ]
    },
    {
     "data": {
      "text/html": [
       "<a href=\"/pipeline/#/experiments/details/41e8c5c8-36d6-4a6f-b491-a55ed67e7166\" target=\"_blank\" >Experiment details</a>."
      ],
      "text/plain": [
       "<IPython.core.display.HTML object>"
      ]
     },
     "metadata": {},
     "output_type": "display_data"
    }
   ],
   "source": [
    "client = None\n",
    "if execution_mode == \"local\":\n",
    "    client = kfp.Client(host=host)\n",
    "else:\n",
    "    client = kfp.Client()\n",
    "print(execution_mode)\n",
    "e2e_hybrid_experiment = client.create_experiment(name='AnomalyPrediction',namespace='kubeflow-user-example-com')\n"
   ]
  },
  {
   "cell_type": "markdown",
   "id": "15cec73c",
   "metadata": {},
   "source": [
    "## Create Pipeline Run"
   ]
  },
  {
   "cell_type": "code",
   "execution_count": 41,
   "id": "57bc6be6",
   "metadata": {},
   "outputs": [
    {
     "data": {
      "text/html": [
       "<a href=\"/pipeline/#/runs/details/ae53fffb-96b9-40c2-b383-f1c85259fe95\" target=\"_blank\" >Run details</a>."
      ],
      "text/plain": [
       "<IPython.core.display.HTML object>"
      ]
     },
     "metadata": {},
     "output_type": "display_data"
    }
   ],
   "source": [
    "run = client.run_pipeline(e2e_hybrid_experiment.id, 'anomalyprediction-sagemaker-pipeline-'+timestamp, pipeline_package_path='e2e_pipeline.tar.gz', params={\n",
    "    'region': aws_region,\n",
    "    'image': inference_image,\n",
    "    'model_name': model_name,\n",
    "    'endpoint_config_name': endpoint_config_name,\n",
    "    'endpoint_name': endpoint_name,\n",
    "    'model_artifact_url': model_path,\n",
    "    'instance_type_1': instance_type,\n",
    "    'role': role_arn\n",
    "})"
   ]
  },
  {
   "cell_type": "markdown",
   "id": "bc8bcfef",
   "metadata": {},
   "source": [
    "## Check deployed Sagemaker Endpoint status"
   ]
  },
  {
   "cell_type": "code",
   "execution_count": 16,
   "id": "e87cf393",
   "metadata": {},
   "outputs": [
    {
     "data": {
      "text/plain": [
       "'InService'"
      ]
     },
     "execution_count": 16,
     "metadata": {},
     "output_type": "execute_result"
    }
   ],
   "source": [
    "sagemaker_session = sagemaker.Session()\n",
    "sg_client = boto3.client('sagemaker', region_name='ap-south-1')\n",
    "resp = sg_client.describe_endpoint(EndpointName=endpoint_name)\n",
    "resp['EndpointStatus']"
   ]
  },
  {
   "cell_type": "code",
   "execution_count": 17,
   "id": "cb7fc739",
   "metadata": {},
   "outputs": [],
   "source": [
    "predictor = Predictor(endpoint_name=endpoint_name,sagemaker_session=sagemaker_session,serializer=NumpySerializer(),deserializer=NumpyDeserializer())"
   ]
  },
  {
   "cell_type": "markdown",
   "id": "53b227d3",
   "metadata": {},
   "source": [
    "## Visualize test data"
   ]
  },
  {
   "cell_type": "code",
   "execution_count": 18,
   "id": "38461d55",
   "metadata": {},
   "outputs": [
    {
     "name": "stdout",
     "output_type": "stream",
     "text": [
      "Number of test samples: 4032\n"
     ]
    },
    {
     "data": {
      "image/png": "[encoded data removed]",
      "text/plain": [
       "<Figure size 432x288 with 1 Axes>"
      ]
     },
     "metadata": {
      "needs_background": "light"
     },
     "output_type": "display_data"
    }
   ],
   "source": [
    "test_url = \"https://raw.githubusercontent.com/numenta/NAB/master/data/artificialWithAnomaly/art_daily_jumpsup.csv\"\n",
    "df_test = pd.read_csv(\n",
    "    test_url, parse_dates=True, index_col=\"timestamp\")\n",
    "df_test_value = (df_test - training_mean) / training_std\n",
    "print(\"Number of test samples:\", len(df_test_value))\n",
    "fig, ax = plt.subplots()\n",
    "df_test_value.plot(legend=False, ax=ax)\n",
    "plt.show()"
   ]
  },
  {
   "cell_type": "markdown",
   "id": "499c62f1",
   "metadata": {},
   "source": [
    "## Send Prediction Requests to Sagemaker"
   ]
  },
  {
   "cell_type": "code",
   "execution_count": 19,
   "id": "7a8ff7d8",
   "metadata": {},
   "outputs": [
    {
     "data": {
      "image/png": "[encoded data removed]",
      "text/plain": [
       "<Figure size 432x288 with 1 Axes>"
      ]
     },
     "metadata": {
      "needs_background": "light"
     },
     "output_type": "display_data"
    },
    {
     "name": "stdout",
     "output_type": "stream",
     "text": [
      "Reconstruction error threshold:  0.09909492287211184\n"
     ]
    }
   ],
   "source": [
    "TIME_STEPS = 288\n",
    "def create_sequences(values, time_steps=288):\n",
    "    output = []\n",
    "    for i in range(len(values) - time_steps):\n",
    "        output.append(values[i : (i + time_steps)])\n",
    "    return np.stack(output)\n",
    "\n",
    "def predict(test_values, split =1500):\n",
    "    res = None\n",
    "    for i in range(0, len(test_values), split):\n",
    "        test_split = test_values[i: i +split]\n",
    "        test_pred = predictor.predict(data=test_split, initial_args={'ContentType': 'application/x-npy'})\n",
    "        res = test_pred if res is None else np.vstack([res,test_pred])\n",
    "    return res\n",
    "\n",
    "# Create sequences from test values.\n",
    "x_train = create_sequences(df_training_value.values)\n",
    "x_train_pred = predict(x_train)\n",
    "train_mae_loss = np.mean(np.abs(x_train_pred - x_train), axis=1)\n",
    "\n",
    "# Create sequences from test values.\n",
    "x_test = create_sequences(df_test_value.values)\n",
    "x_test_pred = predict(x_test)\n",
    "# Get test MAE loss.\n",
    "test_mae_loss = np.mean(np.abs(x_test_pred - x_test), axis=1)\n",
    "test_mae_loss = test_mae_loss.reshape((-1))\n",
    "\n",
    "plt.hist(train_mae_loss, bins=50)\n",
    "plt.xlabel(\"Train MAE loss\")\n",
    "plt.ylabel(\"No of samples\")\n",
    "plt.show()\n",
    "threshold = np.max(train_mae_loss)\n",
    "print(\"Reconstruction error threshold: \", threshold)"
   ]
  },
  {
   "cell_type": "markdown",
   "id": "9d994e5b",
   "metadata": {},
   "source": [
    "## Plot Anomalies"
   ]
  },
  {
   "cell_type": "code",
   "execution_count": 20,
   "id": "8b319d00",
   "metadata": {},
   "outputs": [
    {
     "name": "stdout",
     "output_type": "stream",
     "text": [
      "Number of anomaly samples:  413\n"
     ]
    },
    {
     "data": {
      "image/png": "[encoded data removed]",
      "text/plain": [
       "<Figure size 432x288 with 1 Axes>"
      ]
     },
     "metadata": {
      "needs_background": "light"
     },
     "output_type": "display_data"
    }
   ],
   "source": [
    "# Detect all the samples which are anomalies.\n",
    "anomalies = test_mae_loss >threshold\n",
    "print(\"Number of anomaly samples: \", np.sum(anomalies))\n",
    "#print(\"Indices of anomaly samples: \", np.where(anomalies))\n",
    "anomalous_data_indices = []\n",
    "for data_idx in range(TIME_STEPS - 1, len(df_test_value) - TIME_STEPS + 1):\n",
    "    if np.all(anomalies[data_idx - TIME_STEPS + 1 : data_idx]):\n",
    "        anomalous_data_indices.append(data_idx)\n",
    "\n",
    "df_subset = df_test.iloc[anomalous_data_indices]\n",
    "fig, ax = plt.subplots()\n",
    "df_test.plot(legend=False, ax=ax)\n",
    "df_subset.plot(legend=False, ax=ax, color=\"r\")\n",
    "plt.show()"
   ]
  },
  {
   "cell_type": "code",
   "execution_count": null,
   "id": "eeb0b5f6",
   "metadata": {},
   "outputs": [],
   "source": []
  },
  {
   "cell_type": "code",
   "execution_count": null,
   "id": "ef33175a",
   "metadata": {},
   "outputs": [],
   "source": []
  }
 ],
 "metadata": {
  "kernelspec": {
   "display_name": "Python 3",
   "language": "python",
   "name": "python3"
  },
  "language_info": {
   "codemirror_mode": {
    "name": "ipython",
    "version": 3
   },
   "file_extension": ".py",
   "mimetype": "text/x-python",
   "name": "python",
   "nbconvert_exporter": "python",
   "pygments_lexer": "ipython3",
   "version": "3.8.10"
  }
 },
 "nbformat": 4,
 "nbformat_minor": 5
}
